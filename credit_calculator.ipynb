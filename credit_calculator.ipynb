{
 "cells": [
  {
   "cell_type": "code",
   "execution_count": 21,
   "id": "62b5266f",
   "metadata": {},
   "outputs": [
    {
     "data": {
      "application/vnd.jupyter.widget-view+json": {
       "model_id": "6c4c4867719c41e294699975a2ea5b53",
       "version_major": 2,
       "version_minor": 0
      },
      "text/plain": [
       "BoundedIntText(value=100000, description='Suma împrumutată:', max=1000000, min=10000, step=10000)"
      ]
     },
     "metadata": {},
     "output_type": "display_data"
    },
    {
     "data": {
      "application/vnd.jupyter.widget-view+json": {
       "model_id": "6d0aa713be094085b9ac413b34ab2908",
       "version_major": 2,
       "version_minor": 0
      },
      "text/plain": [
       "BoundedIntText(value=20, description='Durata împrumutului (ani):', max=30, min=1)"
      ]
     },
     "metadata": {},
     "output_type": "display_data"
    },
    {
     "data": {
      "application/vnd.jupyter.widget-view+json": {
       "model_id": "3b70b88878df4fa7a1c15d0ab34c8b1a",
       "version_major": 2,
       "version_minor": 0
      },
      "text/plain": [
       "BoundedFloatText(value=3.5, description='Rata dobânzii anuale (%):', max=50.0, step=0.1)"
      ]
     },
     "metadata": {},
     "output_type": "display_data"
    },
    {
     "data": {
      "application/vnd.jupyter.widget-view+json": {
       "model_id": "bc1a481565d645ce866d5cf669ca5af9",
       "version_major": 2,
       "version_minor": 0
      },
      "text/plain": [
       "Output()"
      ]
     },
     "metadata": {},
     "output_type": "display_data"
    }
   ],
   "source": [
    "import ipywidgets as widgets\n",
    "from IPython.display import display, clear_output\n",
    "import plotly.graph_objects as go\n",
    "import numpy as np\n",
    "\n",
    "# Funcția de calcul a ipotecii\n",
    "def calculate_mortgage(principal, years, annual_rate):\n",
    "    monthly_rate = annual_rate / 12 / 100\n",
    "    number_of_payments = years * 12\n",
    "    if monthly_rate == 0:  # Tratarea cazului cu dobândă zero\n",
    "        monthly_payment = principal / number_of_payments\n",
    "    else:\n",
    "        monthly_payment = principal * (monthly_rate * (1 + monthly_rate) ** number_of_payments) / ((1 + monthly_rate) ** number_of_payments - 1)\n",
    "    total_payment = monthly_payment * number_of_payments\n",
    "    multiplier = total_payment / principal\n",
    "    return monthly_payment, total_payment, multiplier\n",
    "\n",
    "# Funcția pentru trasarea graficelor\n",
    "def plot_graphs(principal, years, rate_range):\n",
    "    monthly_payments, total_payments, multipliers = [], [], []\n",
    "    for r in rate_range:\n",
    "        monthly_payment, total_payment, multiplier = calculate_mortgage(principal, years, r)\n",
    "        monthly_payments.append(monthly_payment)\n",
    "        total_payments.append(total_payment)\n",
    "        multipliers.append(multiplier)\n",
    "\n",
    "    # Graficul 1: Plata lunară vs. Rata dobânzii anuale\n",
    "    fig1 = go.Figure(data=go.Scatter(x=rate_range, y=monthly_payments, mode='markers', marker=dict(color='blue')))\n",
    "    fig1.update_layout(title='', xaxis_title='Rata dobânzii anuale (%)', yaxis_title='Plata lunară ($)')\n",
    "    fig1.show()\n",
    "\n",
    "    # Graficul 2: Totalul plătit vs. Rata dobânzii anuale\n",
    "    fig2 = go.Figure(data=go.Scatter(x=rate_range, y=total_payments, mode='markers', marker=dict(color='green')))\n",
    "    fig2.update_layout(title='', xaxis_title='Rata dobânzii anuale (%)', yaxis_title='Plata totală ($)')\n",
    "    fig2.show()\n",
    "\n",
    "    # Graficul 3: Multiplicatorul vs. Rata dobânzii anuale\n",
    "    fig3 = go.Figure(data=go.Scatter(x=rate_range, y=multipliers, mode='markers', marker=dict(color='red')))\n",
    "    fig3.update_layout(title='', xaxis_title='Rata dobânzii anuale (%)', yaxis_title='Multiplicatorul (Total/Suma împrumutată)')\n",
    "    fig3.show()\n",
    "\n",
    "# Widget-uri\n",
    "amount_input = widgets.BoundedIntText(value=100000, min=10000, max=1000000, step=10000, description='Suma împrumutată:')\n",
    "years_input = widgets.BoundedIntText(value=20, min=1, max=30, step=1, description='Durata împrumutului (ani):')\n",
    "rate_input = widgets.BoundedFloatText(value=3.5, min=0, max=50, step=0.1, description='Rata dobânzii anuale (%):')\n",
    "\n",
    "# Widget pentru afișare\n",
    "output = widgets.Output()\n",
    "\n",
    "# Funcția de actualizare\n",
    "def update_mortgage(change):\n",
    "    with output:\n",
    "        clear_output(wait=True)\n",
    "        monthly_payment, total_payment, multiplier = calculate_mortgage(amount_input.value, years_input.value, rate_input.value)\n",
    "        print(f\"Plata lunară: ${monthly_payment:.2f}\")\n",
    "        print(f\"Totalul plătit pe durata a {years_input.value} ani: ${total_payment:.2f}\")\n",
    "        print(f\"Multiplicatorul: {multiplier:.2f}x\")\n",
    "        rate_range = np.linspace(0, 40, 60)  # Intervalul ratelor dobânzii de la 0% la 15%\n",
    "        plot_graphs(amount_input.value, years_input.value, rate_range)\n",
    "\n",
    "# Observatori\n",
    "amount_input.observe(update_mortgage, names='value')\n",
    "years_input.observe(update_mortgage, names='value')\n",
    "rate_input.observe(update_mortgage, names='value')\n",
    "\n",
    "# Afișarea widget-urilor\n",
    "display(amount_input, years_input, rate_input, output)\n",
    "\n",
    "# Calculul și graficul inițial\n",
    "update_mortgage(None)\n"
   ]
  },
  {
   "cell_type": "code",
   "execution_count": null,
   "id": "6a2021c8",
   "metadata": {},
   "outputs": [],
   "source": []
  },
  {
   "cell_type": "code",
   "execution_count": null,
   "id": "5f248207",
   "metadata": {},
   "outputs": [],
   "source": []
  }
 ],
 "metadata": {
  "kernelspec": {
   "display_name": "Python 3 (ipykernel)",
   "language": "python",
   "name": "python3"
  },
  "language_info": {
   "codemirror_mode": {
    "name": "ipython",
    "version": 3
   },
   "file_extension": ".py",
   "mimetype": "text/x-python",
   "name": "python",
   "nbconvert_exporter": "python",
   "pygments_lexer": "ipython3",
   "version": "3.11.5"
  }
 },
 "nbformat": 4,
 "nbformat_minor": 5
}
